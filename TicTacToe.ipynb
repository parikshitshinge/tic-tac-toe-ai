{
 "cells": [
  {
   "cell_type": "code",
   "execution_count": 66,
   "metadata": {},
   "outputs": [
    {
     "name": "stdout",
     "output_type": "stream",
     "text": [
      "X | X | O\n",
      "O | X | O\n",
      "X | O | X\n",
      "\n",
      "3rd: Winner is X\n"
     ]
    }
   ],
   "source": [
    "#imports\n",
    "\n",
    "\n",
    "#define variables\n",
    "player = ''\n",
    "bot = ''\n",
    "board = {\n",
    "    'TopL':'X',\n",
    "    'TopM':'X',\n",
    "    'TopR':'O',\n",
    "    'MidL':'O',\n",
    "    'MidM':'X',\n",
    "    'MidR':'O', \n",
    "    'BottomL':'X',\n",
    "    'BottomM':'O',\n",
    "    'BottomR':'X',    \n",
    "    \n",
    "}\n",
    "\n",
    "#get Player's choice\n",
    "def getPlayerChoice():\n",
    "    global player, bot    \n",
    "    player = input('Do you wanna be X or O?: ').upper()\n",
    "    bot = 'O' if player =='X' else 'X'\n",
    "    #return player, bot\n",
    "\n",
    "#print board's current status\n",
    "def printBoard():\n",
    "    print(board['TopL'] + \" | \"+ board['TopM'] +\" | \"+ board['TopR'] +\"\\n\"+\n",
    "         board['MidL'] + \" | \"+ board['MidM'] +\" | \"+ board['MidR'] +\"\\n\"+\n",
    "         board['BottomL'] + \" | \"+ board['BottomM'] +\" | \"+ board['BottomR'] +\"\\n\"\n",
    "         )\n",
    "\n",
    "#get player's new input and call botInput    \n",
    "def getPlayerInput():\n",
    "    global player\n",
    "    global board\n",
    "    newInput = input(\"Choose a block (e.g. TopL, MidM, BottomR): \")\n",
    "    board[newInput] = player\n",
    "\n",
    "def checkWinner():\n",
    "    global board\n",
    "    boardList = list(board.values())\n",
    "    for x in range(0,7,3):\n",
    "        if(boardList[x] == boardList[x+1] == boardList[x+2]):\n",
    "            return \"1st: Winner is \"+boardList[x]\n",
    "    for x in range(0,3):      \n",
    "        if(boardList[x] == boardList[x+3] == boardList[x+6]):\n",
    "            return \"2nd: Winner is \"+boardList[x]\n",
    "    if( boardList[0]== boardList[4]== boardList[8]):\n",
    "        return \"3rd: Winner is \"+boardList[0]\n",
    "    if( boardList[2]== boardList[4]== boardList[6]):\n",
    "        return \"4th: Winner is \"+boardList[2]\n",
    "    return \"Not yet\"\n",
    "    \n",
    "#main \n",
    "#getPlayerChoice()\n",
    "#getPlayerInput()\n",
    "printBoard()\n",
    "print(checkWinner())\n"
   ]
  },
  {
   "cell_type": "code",
   "execution_count": null,
   "metadata": {},
   "outputs": [],
   "source": []
  },
  {
   "cell_type": "code",
   "execution_count": null,
   "metadata": {},
   "outputs": [],
   "source": []
  }
 ],
 "metadata": {
  "kernelspec": {
   "display_name": "Python 3",
   "language": "python",
   "name": "python3"
  },
  "language_info": {
   "codemirror_mode": {
    "name": "ipython",
    "version": 3
   },
   "file_extension": ".py",
   "mimetype": "text/x-python",
   "name": "python",
   "nbconvert_exporter": "python",
   "pygments_lexer": "ipython3",
   "version": "3.8.5"
  }
 },
 "nbformat": 4,
 "nbformat_minor": 4
}
